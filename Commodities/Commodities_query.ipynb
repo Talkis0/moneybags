{
 "cells": [
  {
   "cell_type": "code",
   "execution_count": 4,
   "metadata": {},
   "outputs": [],
   "source": [
    "import requests\n",
    "import pandas as pd\n",
    "import numpy as np\n",
    "import csv"
   ]
  },
  {
   "cell_type": "code",
   "execution_count": 5,
   "metadata": {},
   "outputs": [],
   "source": [
    "def csvCommod(function, interval):\n",
    "    API_KEY = 'GOIR6JKN4TW5HNGO'\n",
    "    url = f'https://www.alphavantage.co/query?function={function}{interval}&apikey={API_KEY}'\n",
    "\n",
    "    r = requests.get(url)\n",
    "    data = r.json()\n",
    "\n",
    "    name = str(function)\n",
    "    filename = f'C:\\Projects\\moneybags\\Commodities\\{name}.csv'\n",
    "\n",
    "    dates = []\n",
    "    values = []\n",
    "    try:\n",
    "        data = data['data']\n",
    "    except:\n",
    "        print(data)\n",
    "    data_v = []\n",
    "    test = list(data[5].values())\n",
    "    for i in data:\n",
    "        data_v.append(list(i.values()))\n",
    "\n",
    "    # Open the file in write mode\n",
    "    with open(filename, 'w', newline='') as csvfile:\n",
    "        # Create a CSV writer object\n",
    "        writer = csv.writer(csvfile)\n",
    "\n",
    "        # Write the header\n",
    "        writer.writerow(['Dates', function])\n",
    "\n",
    "        # Write the data to the CSV file\n",
    "        writer.writerows(data_v)"
   ]
  },
  {
   "cell_type": "code",
   "execution_count": 8,
   "metadata": {},
   "outputs": [],
   "source": [
    "# csvCommod(\"WTI\", \"&interval=daily\")\n",
    "# csvCommod(\"BRENT\", \"&interval=daily\")\n",
    "# csvCommod(\"NATURAL_GAS\", \"&interval=daily\")\n",
    "# csvCommod(\"COPPER\", \"&interval=monthly\")\n",
    "# csvCommod(\"ALUMINUM\", \"&interval=monthly\")\n",
    "# csvCommod(\"WHEAT\", \"&interval=monthly\")\n",
    "# csvCommod(\"CORN\", \"&interval=monthly\")\n",
    "# csvCommod(\"COTTON\", \"&interval=monthly\")\n",
    "# csvCommod(\"SUGAR\", \"&interval=monthly\")\n",
    "# csvCommod(\"COFFEE\", \"&interval=monthly\")\n",
    "# csvCommod(\"ALL_COMMODITIES\", \"&interval=monthly\")"
   ]
  }
 ],
 "metadata": {
  "kernelspec": {
   "display_name": "Python 3",
   "language": "python",
   "name": "python3"
  },
  "language_info": {
   "codemirror_mode": {
    "name": "ipython",
    "version": 3
   },
   "file_extension": ".py",
   "mimetype": "text/x-python",
   "name": "python",
   "nbconvert_exporter": "python",
   "pygments_lexer": "ipython3",
   "version": "3.11.4"
  },
  "orig_nbformat": 4
 },
 "nbformat": 4,
 "nbformat_minor": 2
}
