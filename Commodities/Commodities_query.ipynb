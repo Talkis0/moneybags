{
 "cells": [
  {
   "cell_type": "code",
   "execution_count": 1,
   "metadata": {},
   "outputs": [],
   "source": [
    "import requests\n",
    "import pandas as pd\n",
    "import numpy as np\n",
    "import csv"
   ]
  },
  {
   "cell_type": "code",
   "execution_count": 14,
   "metadata": {},
   "outputs": [],
   "source": [
    "def csvCommod(function, interval):\n",
    "    API_KEY = 'GOIR6JKN4TW5HNGO'\n",
    "    url = f'https://www.alphavantage.co/query?function={function}{interval}&apikey={API_KEY}'\n",
    "\n",
    "    r = requests.get(url)\n",
    "    data = r.json()\n",
    "\n",
    "    name = str(function)\n",
    "    filename = f'C:\\Projects\\moneybags\\Commodities\\{name}.csv'\n",
    "\n",
    "    dates = []\n",
    "    values = []\n",
    "    try:\n",
    "        data = data['data']\n",
    "    except:\n",
    "        print(data)\n",
    "    data_v = []\n",
    "    test = list(data[5].values())\n",
    "    for i in data:\n",
    "        data_v.append(list(i.values()))\n",
    "\n",
    "    # Open the file in write mode\n",
    "    with open(filename, 'w', newline='') as csvfile:\n",
    "        # Create a CSV writer object\n",
    "        writer = csv.writer(csvfile)\n",
    "\n",
    "        # Write the header\n",
    "        writer.writerow(['Dates', 'Values'])\n",
    "\n",
    "        # Write the data to the CSV file\n",
    "        writer.writerows(data_v)"
   ]
  },
  {
   "cell_type": "code",
   "execution_count": 15,
   "metadata": {},
   "outputs": [
    {
     "name": "stdout",
     "output_type": "stream",
     "text": [
      "{'Note': 'Thank you for using Alpha Vantage! Our standard API call frequency is 5 calls per minute and 100 calls per day. Please visit https://www.alphavantage.co/premium/ if you would like to target a higher API call frequency.'}\n"
     ]
    },
    {
     "ename": "KeyError",
     "evalue": "5",
     "output_type": "error",
     "traceback": [
      "\u001b[1;31m---------------------------------------------------------------------------\u001b[0m",
      "\u001b[1;31mKeyError\u001b[0m                                  Traceback (most recent call last)",
      "Cell \u001b[1;32mIn[15], line 5\u001b[0m\n\u001b[0;32m      3\u001b[0m csvCommod(\u001b[39m\"\u001b[39m\u001b[39mNATURAL_GAS\u001b[39m\u001b[39m\"\u001b[39m, \u001b[39m\"\u001b[39m\u001b[39m&interval=daily\u001b[39m\u001b[39m\"\u001b[39m)\n\u001b[0;32m      4\u001b[0m csvCommod(\u001b[39m\"\u001b[39m\u001b[39mCOPPER\u001b[39m\u001b[39m\"\u001b[39m, \u001b[39m\"\u001b[39m\u001b[39m&interval=monthly\u001b[39m\u001b[39m\"\u001b[39m)\n\u001b[1;32m----> 5\u001b[0m csvCommod(\u001b[39m\"\u001b[39;49m\u001b[39mALUMINIUM\u001b[39;49m\u001b[39m\"\u001b[39;49m, \u001b[39m\"\u001b[39;49m\u001b[39m&interval=monthly\u001b[39;49m\u001b[39m\"\u001b[39;49m)\n\u001b[0;32m      6\u001b[0m csvCommod(\u001b[39m\"\u001b[39m\u001b[39mWHEAT\u001b[39m\u001b[39m\"\u001b[39m, \u001b[39m\"\u001b[39m\u001b[39m&interval=monthly\u001b[39m\u001b[39m\"\u001b[39m)\n\u001b[0;32m      7\u001b[0m csvCommod(\u001b[39m\"\u001b[39m\u001b[39mCORN\u001b[39m\u001b[39m\"\u001b[39m, \u001b[39m\"\u001b[39m\u001b[39m&interval=monthly\u001b[39m\u001b[39m\"\u001b[39m)\n",
      "Cell \u001b[1;32mIn[14], line 18\u001b[0m, in \u001b[0;36mcsvCommod\u001b[1;34m(function, interval)\u001b[0m\n\u001b[0;32m     16\u001b[0m     \u001b[39mprint\u001b[39m(data)\n\u001b[0;32m     17\u001b[0m data_v \u001b[39m=\u001b[39m []\n\u001b[1;32m---> 18\u001b[0m test \u001b[39m=\u001b[39m \u001b[39mlist\u001b[39m(data[\u001b[39m5\u001b[39;49m]\u001b[39m.\u001b[39mvalues())\n\u001b[0;32m     19\u001b[0m \u001b[39mfor\u001b[39;00m i \u001b[39min\u001b[39;00m data:\n\u001b[0;32m     20\u001b[0m     data_v\u001b[39m.\u001b[39mappend(\u001b[39mlist\u001b[39m(i\u001b[39m.\u001b[39mvalues()))\n",
      "\u001b[1;31mKeyError\u001b[0m: 5"
     ]
    }
   ],
   "source": [
    "csvCommod(\"WTI\", \"&interval=daily\")\n",
    "csvCommod(\"BRENT\", \"&interval=daily\")\n",
    "csvCommod(\"NATURAL_GAS\", \"&interval=daily\")\n",
    "csvCommod(\"COPPER\", \"&interval=monthly\")\n",
    "csvCommod(\"ALUMINIUM\", \"&interval=monthly\")\n",
    "csvCommod(\"WHEAT\", \"&interval=monthly\")\n",
    "csvCommod(\"CORN\", \"&interval=monthly\")\n",
    "csvCommod(\"COTTON\", \"&interval=monthly\")\n",
    "csvCommod(\"SUGAR\", \"&interval=monthly\")\n",
    "csvCommod(\"COFFEE\", \"&interval=monthly\")\n",
    "csvCommod(\"ALL_COMMODITIES\", \"&interval=monthly\")"
   ]
  }
 ],
 "metadata": {
  "kernelspec": {
   "display_name": "Python 3",
   "language": "python",
   "name": "python3"
  },
  "language_info": {
   "codemirror_mode": {
    "name": "ipython",
    "version": 3
   },
   "file_extension": ".py",
   "mimetype": "text/x-python",
   "name": "python",
   "nbconvert_exporter": "python",
   "pygments_lexer": "ipython3",
   "version": "3.11.4"
  },
  "orig_nbformat": 4
 },
 "nbformat": 4,
 "nbformat_minor": 2
}
