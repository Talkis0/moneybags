{
 "cells": [
  {
   "cell_type": "markdown",
   "metadata": {},
   "source": [
    "This script will pull economic data into csv to be used for training our neural networks\n",
    "Data will be pulled from alphavantage"
   ]
  },
  {
   "cell_type": "code",
   "execution_count": 2,
   "metadata": {},
   "outputs": [],
   "source": [
    "import requests\n",
    "import pandas as pd\n",
    "import numpy as np\n",
    "import csv"
   ]
  },
  {
   "cell_type": "code",
   "execution_count": 22,
   "metadata": {},
   "outputs": [],
   "source": [
    "def csvEcon(function, interval):\n",
    "    API_KEY = 'GOIR6JKN4TW5HNGO'\n",
    "    url = f'https://www.alphavantage.co/query?function={function}{interval}&apikey={API_KEY}'\n",
    "\n",
    "    r = requests.get(url)\n",
    "    data = r.json()\n",
    "\n",
    "    name = str(function)\n",
    "    filename = f'C:\\Projects\\moneybags\\Economic_Indicators\\{name}.csv'\n",
    "\n",
    "    dates = []\n",
    "    values = []\n",
    "\n",
    "    data = data['data']\n",
    "    data_v = []\n",
    "    test = list(data[5].values())\n",
    "    for i in data:\n",
    "        data_v.append(list(i.values()))\n",
    "\n",
    "    # Open the file in write mode\n",
    "    with open(filename, 'w', newline='') as csvfile:\n",
    "        # Create a CSV writer object\n",
    "        writer = csv.writer(csvfile)\n",
    "\n",
    "        # Write the header\n",
    "        writer.writerow(['Dates', 'Values'])\n",
    "\n",
    "        # Write the data to the CSV file\n",
    "        writer.writerows(data_v)"
   ]
  },
  {
   "cell_type": "code",
   "execution_count": 25,
   "metadata": {},
   "outputs": [],
   "source": [
    "csvEcon(\"REAL_GDP\", \"&interval=quarterly\")\n",
    "csvEcon(\"TREASURY_YIELD\", \"&interval=daily\")\n",
    "csvEcon(\"FEDERAL_FUNDS_RATE\", \"&interval=daily\")\n",
    "csvEcon(\"CPI\", \"&interval=monthly\")\n",
    "csvEcon(\"INFLATION\", \"\")\n",
    "#csvEcon(\"RETAIL_SALES\", \"\")\n",
    "csvEcon(\"DURABLES\", \"\")\n",
    "csvEcon(\"UNEMPLOYMENT\", \"\")\n",
    "csvEcon(\"NONFARM_PAYROLL\", \"\")"
   ]
  }
 ],
 "metadata": {
  "kernelspec": {
   "display_name": "Python 3",
   "language": "python",
   "name": "python3"
  },
  "language_info": {
   "codemirror_mode": {
    "name": "ipython",
    "version": 3
   },
   "file_extension": ".py",
   "mimetype": "text/x-python",
   "name": "python",
   "nbconvert_exporter": "python",
   "pygments_lexer": "ipython3",
   "version": "3.11.4"
  },
  "orig_nbformat": 4
 },
 "nbformat": 4,
 "nbformat_minor": 2
}
