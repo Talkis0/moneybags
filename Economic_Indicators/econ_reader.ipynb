{
 "cells": [
  {
   "cell_type": "markdown",
   "metadata": {},
   "source": [
    "This script will pull economic data into csv to be used for training our neural networks\n",
    "Data will be pulled from alphavantage"
   ]
  },
  {
   "cell_type": "code",
   "execution_count": 2,
   "metadata": {},
   "outputs": [],
   "source": [
    "import requests\n",
    "import pandas as pd\n",
    "import numpy as np"
   ]
  },
  {
   "cell_type": "code",
   "execution_count": 7,
   "metadata": {},
   "outputs": [
    {
     "name": "stdout",
     "output_type": "stream",
     "text": [
      "{'name': 'Real Gross Domestic Product', 'interval': 'quarterly', 'unit': 'billions of dollars', 'data': [{'date': '2023-01-01', 'value': '4950.82'}, {'date': '2022-10-01', 'value': '5157.178'}, {'date': '2022-07-01', 'value': '5018.093'}, {'date': '2022-04-01', 'value': '4985.795'}, {'date': '2022-01-01', 'value': '4855.857'}, {'date': '2021-10-01', 'value': '5110.951'}, {'date': '2021-07-01', 'value': '4916.402'}, {'date': '2021-04-01', 'value': '4890.835'}, {'date': '2021-01-01', 'value': '4691.624'}, {'date': '2020-10-01', 'value': '4843.66'}, {'date': '2020-07-01', 'value': '4701.108'}, {'date': '2020-04-01', 'value': '4335.915'}, {'date': '2020-01-01', 'value': '4628.46'}, {'date': '2019-10-01', 'value': '4901.993'}, {'date': '2019-07-01', 'value': '4796.221'}, {'date': '2019-04-01', 'value': '4753.025'}, {'date': '2019-01-01', 'value': '4584.814'}, {'date': '2018-10-01', 'value': '4772.161'}, {'date': '2018-07-01', 'value': '4689.905'}, {'date': '2018-04-01', 'value': '4646.83'}, {'date': '2018-01-01', 'value': '4500.182'}, {'date': '2017-10-01', 'value': '4668.375'}, {'date': '2017-07-01', 'value': '4556.956'}, {'date': '2017-04-01', 'value': '4510.507'}, {'date': '2017-01-01', 'value': '4340.814'}, {'date': '2016-10-01', 'value': '4535.075'}, {'date': '2016-07-01', 'value': '4449.603'}, {'date': '2016-04-01', 'value': '4407.286'}, {'date': '2016-01-01', 'value': '4288.31'}, {'date': '2015-10-01', 'value': '4444.522'}, {'date': '2015-07-01', 'value': '4389.955'}, {'date': '2015-04-01', 'value': '4343.294'}, {'date': '2015-01-01', 'value': '4212.523'}, {'date': '2014-10-01', 'value': '4371.009'}, {'date': '2014-07-01', 'value': '4287.261'}, {'date': '2014-04-01', 'value': '4194.264'}, {'date': '2014-01-01', 'value': '4079.517'}, {'date': '2013-10-01', 'value': '4260.864'}, {'date': '2013-07-01', 'value': '4170.71'}, {'date': '2013-04-01', 'value': '4104.203'}, {'date': '2013-01-01', 'value': '4017.571'}, {'date': '2012-10-01', 'value': '4138.064'}, {'date': '2012-07-01', 'value': '4083.025'}, {'date': '2012-04-01', 'value': '4046.533'}, {'date': '2012-01-01', 'value': '3986.349'}, {'date': '2011-10-01', 'value': '4078.494'}, {'date': '2011-07-01', 'value': '3983.907'}, {'date': '2011-04-01', 'value': '3957.95'}, {'date': '2011-01-01', 'value': '3871.183'}, {'date': '2010-10-01', 'value': '4026.748'}, {'date': '2010-07-01', 'value': '3945.123'}, {'date': '2010-04-01', 'value': '3900.64'}, {'date': '2010-01-01', 'value': '3776.48'}, {'date': '2009-10-01', 'value': '3926.667'}, {'date': '2009-07-01', 'value': '3823.607'}, {'date': '2009-04-01', 'value': '3782.545'}, {'date': '2009-01-01', 'value': '3703.443'}, {'date': '2008-10-01', 'value': '3895.147'}, {'date': '2008-07-01', 'value': '3910.393'}, {'date': '2008-04-01', 'value': '3934.652'}, {'date': '2008-01-01', 'value': '3902.77'}, {'date': '2007-10-01', 'value': '4015.289'}, {'date': '2007-07-01', 'value': '3926.744'}, {'date': '2007-04-01', 'value': '3896.72'}, {'date': '2007-01-01', 'value': '3785.119'}, {'date': '2006-10-01', 'value': '3916.851'}, {'date': '2006-07-01', 'value': '3833.693'}, {'date': '2006-04-01', 'value': '3836.061'}, {'date': '2006-01-01', 'value': '3729.338'}, {'date': '2005-10-01', 'value': '3828.173'}, {'date': '2005-07-01', 'value': '3767.844'}, {'date': '2005-04-01', 'value': '3701.582'}, {'date': '2005-01-01', 'value': '3603.67'}, {'date': '2004-10-01', 'value': '3721.678'}, {'date': '2004-07-01', 'value': '3617.667'}, {'date': '2004-04-01', 'value': '3575.515'}, {'date': '2004-01-01', 'value': '3484.837'}, {'date': '2003-10-01', 'value': '3597.364'}, {'date': '2003-07-01', 'value': '3498.914'}, {'date': '2003-04-01', 'value': '3429.079'}, {'date': '2003-01-01', 'value': '3340.163'}, {'date': '2002-10-01', 'value': '3460.159'}, {'date': '2002-07-01', 'value': '3401.82'}, {'date': '2002-04-01', 'value': '3362.508'}, {'date': '2002-01-01', 'value': '3263.869'}]}\n"
     ]
    }
   ],
   "source": [
    "api_key = 'GOIR6JKN4TW5HNGO'"
   ]
  },
  {
   "cell_type": "code",
   "execution_count": null,
   "metadata": {},
   "outputs": [],
   "source": [
    "datapoint = 'REAL_GDP'\n",
    "interval = 'quarterly'\n",
    "\n",
    "url = f'https://www.alphavantage.co/query?function={datapoint}&interval={interval}&apikey={api_key}'\n",
    "r = requests.get(url)\n",
    "data_quarterly = r.json()"
   ]
  },
  {
   "cell_type": "code",
   "execution_count": null,
   "metadata": {},
   "outputs": [],
   "source": [
    "datapoint = ['TREASURY_YIELD' 'FEDERAL_FUNDS_RATE']\n",
    "interval = 'daily'\n",
    "\n",
    "for i in datapoint:\n",
    "    url = f'https://www.alphavantage.co/query?function={datapoint(i)}&interval={interval}&apikey={api_key}'\n",
    "    r = requests.get(url)\n",
    "data_daily = r.json()"
   ]
  },
  {
   "cell_type": "code",
   "execution_count": null,
   "metadata": {},
   "outputs": [],
   "source": [
    "datapoint = ['CPI']\n",
    "interval = 'monthly'\n",
    "\n",
    "url = f'https://www.alphavantage.co/query?function={datapoint}&interval={interval}&apikey={api_key}'\n",
    "r = requests.get(url)\n",
    "data_monthly = r.json()"
   ]
  },
  {
   "cell_type": "code",
   "execution_count": null,
   "metadata": {},
   "outputs": [],
   "source": [
    "datapoint = ['INFLATION' 'RETAIL_SALES' 'DURABLES' 'UNEMPLOYMENT' 'NONFARM_PAYROLL']\n",
    "\n",
    "for i in datapoint:\n",
    "    url = f'https://www.alphavantage.co/query?function={datapoint(i)}&apikey={api_key}'\n",
    "    r = requests.get(url)\n",
    "data_gen = r.json()"
   ]
  }
 ],
 "metadata": {
  "kernelspec": {
   "display_name": "Python 3",
   "language": "python",
   "name": "python3"
  },
  "language_info": {
   "codemirror_mode": {
    "name": "ipython",
    "version": 3
   },
   "file_extension": ".py",
   "mimetype": "text/x-python",
   "name": "python",
   "nbconvert_exporter": "python",
   "pygments_lexer": "ipython3",
   "version": "3.11.4"
  },
  "orig_nbformat": 4
 },
 "nbformat": 4,
 "nbformat_minor": 2
}
