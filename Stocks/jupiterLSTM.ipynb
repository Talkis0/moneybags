{
 "cells": [
  {
   "cell_type": "markdown",
   "metadata": {},
   "source": [
    "### Neural Net LSTM Model Supervised Learning step by step"
   ]
  },
  {
   "cell_type": "markdown",
   "metadata": {},
   "source": [
    "### Import libraries"
   ]
  },
  {
   "cell_type": "code",
   "execution_count": 6,
   "metadata": {},
   "outputs": [],
   "source": [
    "import pandas as pd\n",
    "import numpy as np\n",
    "import tensorflow as tf\n",
    "from sklearn.model_selection import train_test_split\n",
    "from sklearn import preprocessing as pp\n",
    "import os\n",
    "import matplotlib.pyplot as plt\n",
    "from sklearn.preprocessing import MinMaxScaler\n",
    "from keras.layers import Dense, LSTM\n",
    "from keras.models import Sequential\n",
    "from datetime import datetime"
   ]
  },
  {
   "cell_type": "markdown",
   "metadata": {},
   "source": [
    "### Step 1: Load the Data"
   ]
  },
  {
   "cell_type": "code",
   "execution_count": 7,
   "metadata": {},
   "outputs": [],
   "source": [
    "folder = os.getcwd()\n",
    "csvFile = os.path.dirname(folder) + '\\\\Stocks_daily\\\\BA.csv'\n",
    "\n",
    "data_df = pd.read_csv(csvFile)\n",
    "\n",
    "data_df.index = pd.to_datetime( data_df.index, format='%Y-%m-%d' )\n",
    "data_df.sort_index( inplace=True )"
   ]
  },
  {
   "cell_type": "markdown",
   "metadata": {},
   "source": [
    "### Step 2: Split the Data into training and validation sets"
   ]
  },
  {
   "cell_type": "code",
   "execution_count": 8,
   "metadata": {},
   "outputs": [],
   "source": [
    "X = data_df[['Open', 'High', 'Low', 'Close', 'Volume']]\n",
    "X = X.iloc[:-21]\n",
    "y_1_week = data_df['Close'].iloc[7:-14]\n",
    "y_2_weeks = data_df['Close'].iloc[14:-7]\n",
    "y_3_weeks = data_df['Close'].iloc[21:]\n",
    "\n",
    "y = pd.DataFrame({'Close_1_Week': y_1_week.values, 'Close_2_Weeks': y_2_weeks.values, 'Close_3_Weeks': y_3_weeks.values}, index=None)\n",
    "\n",
    "X_train, X_val, y_train, y_val = train_test_split(X, y, test_size=0.3, random_state=42, shuffle = False)"
   ]
  },
  {
   "cell_type": "markdown",
   "metadata": {},
   "source": [
    "### Step 3: Normalize Data"
   ]
  },
  {
   "cell_type": "code",
   "execution_count": 9,
   "metadata": {},
   "outputs": [],
   "source": [
    "scaler = MinMaxScaler()\n",
    "X_trainScaled = scaler.fit_transform(X_train)\n",
    "X_valScaled = scaler.fit_transform(X_val)\n",
    "y_trainScaled = scaler.fit_transform(y_train)\n",
    "y_valScaled = scaler.fit_transform(y_val)\n"
   ]
  },
  {
   "cell_type": "markdown",
   "metadata": {},
   "source": [
    "### Step 4: Create and Train the Model"
   ]
  },
  {
   "cell_type": "code",
   "execution_count": 10,
   "metadata": {},
   "outputs": [
    {
     "name": "stdout",
     "output_type": "stream",
     "text": [
      "Epoch 1/100\n",
      "130/130 [==============================] - 1s 5ms/step - loss: 0.0173 - val_loss: 0.0055\n",
      "Epoch 2/100\n",
      "130/130 [==============================] - 1s 4ms/step - loss: 0.0014 - val_loss: 0.0053\n",
      "Epoch 3/100\n",
      "130/130 [==============================] - 1s 4ms/step - loss: 0.0014 - val_loss: 0.0056\n",
      "Epoch 4/100\n",
      "130/130 [==============================] - 1s 4ms/step - loss: 0.0014 - val_loss: 0.0054\n",
      "Epoch 5/100\n",
      "130/130 [==============================] - 1s 4ms/step - loss: 0.0014 - val_loss: 0.0053\n",
      "Epoch 6/100\n",
      "130/130 [==============================] - 1s 4ms/step - loss: 0.0015 - val_loss: 0.0051\n",
      "Epoch 7/100\n",
      "130/130 [==============================] - 1s 4ms/step - loss: 0.0013 - val_loss: 0.0053\n",
      "Epoch 8/100\n",
      "130/130 [==============================] - 1s 4ms/step - loss: 0.0013 - val_loss: 0.0051\n",
      "Epoch 9/100\n",
      "130/130 [==============================] - 1s 4ms/step - loss: 0.0013 - val_loss: 0.0053\n",
      "Epoch 10/100\n",
      "130/130 [==============================] - 1s 4ms/step - loss: 0.0013 - val_loss: 0.0055\n",
      "Epoch 11/100\n",
      "130/130 [==============================] - 1s 4ms/step - loss: 0.0013 - val_loss: 0.0051\n",
      "Epoch 12/100\n",
      "130/130 [==============================] - 1s 4ms/step - loss: 0.0013 - val_loss: 0.0051\n",
      "Epoch 13/100\n",
      "130/130 [==============================] - 1s 4ms/step - loss: 0.0013 - val_loss: 0.0055\n",
      "Epoch 14/100\n",
      "130/130 [==============================] - 1s 4ms/step - loss: 0.0013 - val_loss: 0.0049\n",
      "Epoch 15/100\n",
      "130/130 [==============================] - 1s 4ms/step - loss: 0.0013 - val_loss: 0.0049\n",
      "Epoch 16/100\n",
      "130/130 [==============================] - 1s 4ms/step - loss: 0.0013 - val_loss: 0.0052\n",
      "Epoch 17/100\n",
      "130/130 [==============================] - 1s 4ms/step - loss: 0.0013 - val_loss: 0.0049\n",
      "Epoch 18/100\n",
      "130/130 [==============================] - 1s 4ms/step - loss: 0.0013 - val_loss: 0.0051\n",
      "Epoch 19/100\n",
      "130/130 [==============================] - 1s 4ms/step - loss: 0.0013 - val_loss: 0.0049\n",
      "Epoch 20/100\n",
      "130/130 [==============================] - 1s 4ms/step - loss: 0.0013 - val_loss: 0.0048\n",
      "Epoch 21/100\n",
      "130/130 [==============================] - 1s 4ms/step - loss: 0.0013 - val_loss: 0.0054\n",
      "Epoch 22/100\n",
      "130/130 [==============================] - 1s 4ms/step - loss: 0.0014 - val_loss: 0.0051\n",
      "Epoch 23/100\n",
      "130/130 [==============================] - 1s 4ms/step - loss: 0.0013 - val_loss: 0.0050\n",
      "Epoch 24/100\n",
      "130/130 [==============================] - 1s 4ms/step - loss: 0.0012 - val_loss: 0.0050\n",
      "Epoch 25/100\n",
      "130/130 [==============================] - 1s 4ms/step - loss: 0.0013 - val_loss: 0.0051\n",
      "Epoch 26/100\n",
      "130/130 [==============================] - 1s 4ms/step - loss: 0.0013 - val_loss: 0.0049\n",
      "Epoch 27/100\n",
      "130/130 [==============================] - 1s 4ms/step - loss: 0.0013 - val_loss: 0.0048\n",
      "Epoch 28/100\n",
      "130/130 [==============================] - 1s 4ms/step - loss: 0.0013 - val_loss: 0.0052\n",
      "Epoch 29/100\n",
      "130/130 [==============================] - 1s 4ms/step - loss: 0.0013 - val_loss: 0.0049\n",
      "Epoch 30/100\n",
      "130/130 [==============================] - 1s 4ms/step - loss: 0.0013 - val_loss: 0.0052\n",
      "Epoch 31/100\n",
      "130/130 [==============================] - 1s 4ms/step - loss: 0.0012 - val_loss: 0.0048\n",
      "Epoch 32/100\n",
      "130/130 [==============================] - 1s 4ms/step - loss: 0.0013 - val_loss: 0.0049\n",
      "Epoch 33/100\n",
      "130/130 [==============================] - 1s 4ms/step - loss: 0.0014 - val_loss: 0.0052\n",
      "Epoch 34/100\n",
      "130/130 [==============================] - 1s 4ms/step - loss: 0.0013 - val_loss: 0.0048\n",
      "Epoch 35/100\n",
      "130/130 [==============================] - 1s 4ms/step - loss: 0.0013 - val_loss: 0.0050\n",
      "Epoch 36/100\n",
      "130/130 [==============================] - 1s 4ms/step - loss: 0.0012 - val_loss: 0.0049\n",
      "Epoch 37/100\n",
      "130/130 [==============================] - 1s 4ms/step - loss: 0.0013 - val_loss: 0.0049\n",
      "Epoch 38/100\n",
      "130/130 [==============================] - 1s 4ms/step - loss: 0.0013 - val_loss: 0.0049\n",
      "Epoch 39/100\n",
      "130/130 [==============================] - 1s 4ms/step - loss: 0.0013 - val_loss: 0.0049\n",
      "Epoch 40/100\n",
      "130/130 [==============================] - 1s 4ms/step - loss: 0.0013 - val_loss: 0.0048\n",
      "Epoch 41/100\n",
      "130/130 [==============================] - 1s 4ms/step - loss: 0.0013 - val_loss: 0.0050\n",
      "Epoch 42/100\n",
      "130/130 [==============================] - 1s 4ms/step - loss: 0.0013 - val_loss: 0.0050\n",
      "Epoch 43/100\n",
      "130/130 [==============================] - 1s 4ms/step - loss: 0.0013 - val_loss: 0.0051\n",
      "Epoch 44/100\n",
      "130/130 [==============================] - 1s 4ms/step - loss: 0.0012 - val_loss: 0.0048\n",
      "Epoch 45/100\n",
      "130/130 [==============================] - 1s 4ms/step - loss: 0.0013 - val_loss: 0.0049\n",
      "Epoch 46/100\n",
      "130/130 [==============================] - 1s 4ms/step - loss: 0.0013 - val_loss: 0.0050\n",
      "Epoch 47/100\n",
      "130/130 [==============================] - 1s 4ms/step - loss: 0.0013 - val_loss: 0.0047\n",
      "Epoch 48/100\n",
      "130/130 [==============================] - 1s 4ms/step - loss: 0.0013 - val_loss: 0.0053\n",
      "Epoch 49/100\n",
      "130/130 [==============================] - 1s 4ms/step - loss: 0.0012 - val_loss: 0.0050\n",
      "Epoch 50/100\n",
      "130/130 [==============================] - 1s 4ms/step - loss: 0.0012 - val_loss: 0.0050\n",
      "Epoch 51/100\n",
      "130/130 [==============================] - 1s 4ms/step - loss: 0.0013 - val_loss: 0.0048\n",
      "Epoch 52/100\n",
      "130/130 [==============================] - 1s 4ms/step - loss: 0.0012 - val_loss: 0.0049\n",
      "Epoch 53/100\n",
      "130/130 [==============================] - 1s 4ms/step - loss: 0.0013 - val_loss: 0.0048\n",
      "Epoch 54/100\n",
      "130/130 [==============================] - 1s 4ms/step - loss: 0.0013 - val_loss: 0.0047\n",
      "Epoch 55/100\n",
      "130/130 [==============================] - 1s 4ms/step - loss: 0.0012 - val_loss: 0.0049\n",
      "Epoch 56/100\n",
      "130/130 [==============================] - 1s 4ms/step - loss: 0.0012 - val_loss: 0.0051\n",
      "Epoch 57/100\n",
      "130/130 [==============================] - 1s 5ms/step - loss: 0.0013 - val_loss: 0.0056\n",
      "Epoch 58/100\n",
      "130/130 [==============================] - 1s 4ms/step - loss: 0.0012 - val_loss: 0.0051\n",
      "Epoch 59/100\n",
      "130/130 [==============================] - 1s 4ms/step - loss: 0.0012 - val_loss: 0.0048\n",
      "Epoch 60/100\n",
      "130/130 [==============================] - 1s 4ms/step - loss: 0.0013 - val_loss: 0.0048\n",
      "Epoch 61/100\n",
      "130/130 [==============================] - 1s 4ms/step - loss: 0.0012 - val_loss: 0.0048\n",
      "Epoch 62/100\n",
      "130/130 [==============================] - 1s 4ms/step - loss: 0.0012 - val_loss: 0.0050\n",
      "Epoch 63/100\n",
      "130/130 [==============================] - 1s 4ms/step - loss: 0.0012 - val_loss: 0.0048\n",
      "Epoch 64/100\n",
      "130/130 [==============================] - 1s 4ms/step - loss: 0.0012 - val_loss: 0.0049\n",
      "Epoch 65/100\n",
      "130/130 [==============================] - 1s 4ms/step - loss: 0.0013 - val_loss: 0.0049\n",
      "Epoch 66/100\n",
      "130/130 [==============================] - 1s 4ms/step - loss: 0.0012 - val_loss: 0.0050\n",
      "Epoch 67/100\n",
      "130/130 [==============================] - 1s 4ms/step - loss: 0.0013 - val_loss: 0.0050\n",
      "Epoch 68/100\n",
      "130/130 [==============================] - 1s 4ms/step - loss: 0.0012 - val_loss: 0.0050\n",
      "Epoch 69/100\n",
      "130/130 [==============================] - 1s 4ms/step - loss: 0.0013 - val_loss: 0.0049\n",
      "Epoch 70/100\n",
      "130/130 [==============================] - 1s 4ms/step - loss: 0.0013 - val_loss: 0.0049\n",
      "Epoch 71/100\n",
      "130/130 [==============================] - 1s 4ms/step - loss: 0.0012 - val_loss: 0.0048\n",
      "Epoch 72/100\n",
      "130/130 [==============================] - 1s 4ms/step - loss: 0.0012 - val_loss: 0.0051\n",
      "Epoch 73/100\n",
      "130/130 [==============================] - 1s 4ms/step - loss: 0.0012 - val_loss: 0.0048\n",
      "Epoch 74/100\n",
      "130/130 [==============================] - 1s 4ms/step - loss: 0.0012 - val_loss: 0.0048\n",
      "Epoch 75/100\n",
      "130/130 [==============================] - 1s 4ms/step - loss: 0.0013 - val_loss: 0.0049\n",
      "Epoch 76/100\n",
      "130/130 [==============================] - 1s 4ms/step - loss: 0.0013 - val_loss: 0.0051\n",
      "Epoch 77/100\n",
      "130/130 [==============================] - 1s 4ms/step - loss: 0.0012 - val_loss: 0.0051\n",
      "Epoch 78/100\n",
      "130/130 [==============================] - 1s 4ms/step - loss: 0.0012 - val_loss: 0.0050\n",
      "Epoch 79/100\n",
      "130/130 [==============================] - 1s 4ms/step - loss: 0.0012 - val_loss: 0.0049\n",
      "Epoch 80/100\n",
      "130/130 [==============================] - 1s 4ms/step - loss: 0.0012 - val_loss: 0.0052\n",
      "Epoch 81/100\n",
      "130/130 [==============================] - 1s 4ms/step - loss: 0.0012 - val_loss: 0.0050\n",
      "Epoch 82/100\n",
      "130/130 [==============================] - 1s 4ms/step - loss: 0.0012 - val_loss: 0.0048\n",
      "Epoch 83/100\n",
      "130/130 [==============================] - 1s 4ms/step - loss: 0.0012 - val_loss: 0.0049\n",
      "Epoch 84/100\n",
      "130/130 [==============================] - 1s 4ms/step - loss: 0.0013 - val_loss: 0.0049\n",
      "Epoch 85/100\n",
      "130/130 [==============================] - 1s 4ms/step - loss: 0.0012 - val_loss: 0.0052\n",
      "Epoch 86/100\n",
      "130/130 [==============================] - 1s 4ms/step - loss: 0.0012 - val_loss: 0.0049\n",
      "Epoch 87/100\n",
      "130/130 [==============================] - 1s 4ms/step - loss: 0.0012 - val_loss: 0.0049\n",
      "Epoch 88/100\n",
      "130/130 [==============================] - 1s 4ms/step - loss: 0.0012 - val_loss: 0.0047\n",
      "Epoch 89/100\n",
      "130/130 [==============================] - 1s 4ms/step - loss: 0.0012 - val_loss: 0.0054\n",
      "Epoch 90/100\n",
      "130/130 [==============================] - 1s 4ms/step - loss: 0.0013 - val_loss: 0.0050\n",
      "Epoch 91/100\n",
      "130/130 [==============================] - 1s 4ms/step - loss: 0.0012 - val_loss: 0.0048\n",
      "Epoch 92/100\n",
      "130/130 [==============================] - 1s 4ms/step - loss: 0.0012 - val_loss: 0.0049\n",
      "Epoch 93/100\n",
      "130/130 [==============================] - 1s 4ms/step - loss: 0.0012 - val_loss: 0.0049\n",
      "Epoch 94/100\n",
      "130/130 [==============================] - 1s 4ms/step - loss: 0.0012 - val_loss: 0.0050\n",
      "Epoch 95/100\n",
      "130/130 [==============================] - 1s 4ms/step - loss: 0.0012 - val_loss: 0.0050\n",
      "Epoch 96/100\n",
      "130/130 [==============================] - 1s 4ms/step - loss: 0.0012 - val_loss: 0.0049\n",
      "Epoch 97/100\n",
      "130/130 [==============================] - 1s 4ms/step - loss: 0.0012 - val_loss: 0.0048\n",
      "Epoch 98/100\n",
      "130/130 [==============================] - 1s 4ms/step - loss: 0.0012 - val_loss: 0.0049\n",
      "Epoch 99/100\n",
      "130/130 [==============================] - 1s 4ms/step - loss: 0.0012 - val_loss: 0.0050\n",
      "Epoch 100/100\n",
      "130/130 [==============================] - 1s 4ms/step - loss: 0.0012 - val_loss: 0.0050\n"
     ]
    },
    {
     "data": {
      "text/plain": [
       "<keras.src.callbacks.History at 0x15c44dde770>"
      ]
     },
     "execution_count": 10,
     "metadata": {},
     "output_type": "execute_result"
    }
   ],
   "source": [
    "X_trainScaled = X_trainScaled.reshape(X_trainScaled.shape[0],X_trainScaled.shape[1],1)\n",
    "model = Sequential()\n",
    "model.add(LSTM(128, activation='relu', input_shape=(X_trainScaled.shape[1], X_trainScaled.shape[2])))\n",
    "model.add(Dense(64, activation='relu'))\n",
    "model.add(Dense(3))\n",
    "\n",
    "model.compile(optimizer='adam', loss='mean_squared_error')\n",
    "\n",
    "model.fit(X_trainScaled.reshape(X_trainScaled.shape[0], X_trainScaled.shape[1], 1), y_trainScaled, \n",
    "          epochs=100, batch_size=32, validation_data=(X_valScaled.reshape(X_valScaled.shape[0], X_valScaled.shape[1], 1), y_valScaled))"
   ]
  },
  {
   "cell_type": "markdown",
   "metadata": {},
   "source": [
    "### Step 5: Predict using the Trained Model"
   ]
  },
  {
   "cell_type": "code",
   "execution_count": 21,
   "metadata": {},
   "outputs": [
    {
     "name": "stdout",
     "output_type": "stream",
     "text": [
      "56/56 [==============================] - 0s 2ms/step\n"
     ]
    }
   ],
   "source": [
    "y_pred_scaled = model.predict(X_valScaled.reshape(X_valScaled.shape[0], X_valScaled.shape[1], 1))\n",
    "y_pred = scaler.inverse_transform(y_pred_scaled)\n",
    "y_val1 = y_val['Close_1_Week'].tolist()\n",
    "X_close = X_val['Close'].tolist()\n",
    "buyReal=False\n",
    "buyReal_dic={'buy':[],'sell':[]}\n",
    "buyTrain = False\n",
    "buyTrain_dic = {'buy':[],'sell':[]}\n",
    "for i in range(0,len(X_close)):\n",
    "    # print(y_1_week_train_actual[i],X_close_actual[i])\n",
    "    if y_val1[i] > X_close[i]:\n",
    "        if buyReal == True:\n",
    "            pass\n",
    "        else:\n",
    "            buyReal == True\n",
    "            buyReal_dic['buy'].append(X_close[i])\n",
    "    if y_val1[i] < X_close[i]:\n",
    "        if buyReal == False:\n",
    "            pass\n",
    "        else:\n",
    "            buyReal = False\n",
    "            buyReal_dic['sell'].append(X_close[i])\n",
    "\n",
    "\n",
    "    if y_pred[i,0] > X_close[i]:\n",
    "        if buyTrain == True:\n",
    "            pass\n",
    "        else:\n",
    "            buyTrain == True\n",
    "            buyTrain_dic['buy'].append(X_close[i])\n",
    "    if y_pred[i,0] < X_close[i]:\n",
    "        if buyTrain == False:\n",
    "            pass\n",
    "        else:\n",
    "            buyTrain = False\n",
    "            buyTrain_dic['sell'].append(X_close[i])"
   ]
  },
  {
   "cell_type": "markdown",
   "metadata": {},
   "source": [
    "### Step 6: Plotting"
   ]
  },
  {
   "cell_type": "code",
   "execution_count": null,
   "metadata": {},
   "outputs": [],
   "source": [
    "# for i in range(3):\n",
    "#     plt.figure(figsize=(10, 6))\n",
    "#     plt.subplot(2,1,1)\n",
    "#     plt.plot(X_close_cur[-length_:].index, y_val_actual[:, i], label=f'Actual {i+1}-Week')\n",
    "#     plt.plot(X_close_cur[-length_:].index, y_pred[:, i], label=f'Predicted {i+1}-Week')\n",
    "#     plt.xlabel('Time')\n",
    "#     plt.ylabel('Closing Price')\n",
    "#     plt.legend()\n",
    "#     plt.title(f'Closing Price Prediction {i+1}-Weeks Ahead')\n",
    "#     plt.subplot(2,1,2)\n",
    "#     plt.plot( X_close_cur[-length_:].index, y_val_actual[:, i] - y_pred[:, i] )\n",
    "#     plt.show()"
   ]
  }
 ],
 "metadata": {
  "kernelspec": {
   "display_name": "base",
   "language": "python",
   "name": "python3"
  },
  "language_info": {
   "codemirror_mode": {
    "name": "ipython",
    "version": 3
   },
   "file_extension": ".py",
   "mimetype": "text/x-python",
   "name": "python",
   "nbconvert_exporter": "python",
   "pygments_lexer": "ipython3",
   "version": "3.10.9"
  },
  "orig_nbformat": 4
 },
 "nbformat": 4,
 "nbformat_minor": 2
}
